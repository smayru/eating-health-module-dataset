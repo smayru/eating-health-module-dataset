{
 "cells": [
  {
   "cell_type": "markdown",
   "metadata": {},
   "source": [
    "#  preprocessing"
   ]
  },
  {
   "cell_type": "code",
   "execution_count": 97,
   "metadata": {
    "collapsed": true
   },
   "outputs": [],
   "source": [
    "import numpy as np\n",
    "import csv\n",
    "import pandas as pd\n",
    "from matplotlib import pyplot as plt\n",
    "%matplotlib inline \n",
    "\n",
    "\n",
    "name='ehresp_2014.csv'\n",
    "K=7\n",
    "\n",
    "df=pd.read_csv(name)\n",
    "df=df.drop('eeincome1', axis=1)\n",
    "df=df.drop('euincome2', axis=1)\n",
    "df=df.drop('exincome1', axis=1)\n",
    "\n",
    "df=df[df[\"erincome\"] > 0]\n",
    "\n",
    "id_data=np.array(df['tucaseid'])\n",
    "income_data=np.array(df['erincome'])\n",
    "\n",
    "tmp_df=df.drop('tucaseid',axis=1)\n",
    "tmp_df=tmp_df.drop('erincome',axis=1)\n",
    "variable_data=np.array(tmp_df)\n",
    "\n",
    "tmp_mean=np.mean(variable_data,axis=0)\n",
    "tmp_sd=np.std(variable_data,axis=0)\n",
    "\n",
    "variable_data=(variable_data-tmp_mean)/(tmp_sd+0.00001)\n"
   ]
  },
  {
   "cell_type": "markdown",
   "metadata": {},
   "source": [
    "# initialization"
   ]
  },
  {
   "cell_type": "code",
   "execution_count": 98,
   "metadata": {
    "collapsed": true
   },
   "outputs": [],
   "source": [
    "val=np.shape(variable_data)[1]\n",
    "num=np.shape(income_data)[0]\n",
    "cluster_id=np.zeros(num)\n",
    "slope=np.zeros([val,K])\n",
    "#intercept=np.zeros([val,K])\n",
    "for i in range(num):\n",
    "\tcluster_id[i]=(i+K-3)%K"
   ]
  },
  {
   "cell_type": "markdown",
   "metadata": {},
   "source": [
    "# define functions"
   ]
  },
  {
   "cell_type": "code",
   "execution_count": 99,
   "metadata": {
    "collapsed": false
   },
   "outputs": [],
   "source": [
    "def update(slope):\n",
    "\tfor k in range(K):\n",
    "\t\ttarget_list=list()\n",
    "\t\tfor i in range(1,6):\n",
    "\t\t\ttarget_list.append(list(np.where((cluster_id==k) & (income_data==i))[0]))\n",
    "\t\tfor i in range(val):\n",
    "\n",
    "\t\t\tnum=0\n",
    "\t\t\ttmp=0\n",
    "\t\t\tfor j in range(5):\n",
    "\t\t\t\tfor l in range(len(target_list[j])):\n",
    "\t\t\t\t\tif cluster_id[target_list[j][l]]==k:\n",
    "\t\t\t\t\t\tnum+=(j+1)\n",
    "\t\t\t\t\t\ttmp+=variable_data[target_list[j][l],i]\n",
    "\t\t\tif num>0:\n",
    "\t\t\t\tslope[i,k]=tmp/float(num)\n",
    "\treturn [slope]\n",
    "\n",
    "\n",
    "def allocation(cluster_id,slope,K):\n",
    "\tfor l in range(cluster_id.shape[0]):\n",
    "\t\tincome=income_data[l]\n",
    "\t\ttmp_attribute=np.zeros([val,K])\n",
    "\t\tfor k in range(K):\n",
    "\t\t\ttmp_attribute[:,k]=income*slope[:,k]\n",
    "\t\tdist=np.zeros(K)\n",
    "\t\ttmp=variable_data[l,:]\n",
    "\t\tfor k in range(K):\n",
    "\t\t\tdist[k]=np.sum(np.power(tmp.transpose()-tmp_attribute[:,k],2))\n",
    "\t\tcluster_id[l]=np.argmin(dist)\n",
    "\treturn cluster_id\n",
    "\n",
    "def total_loss(cluster_id,income_data,variable_data):\n",
    "\tloss_sum=0\n",
    "\tfor l in range(int(cluster_id.shape[0])):\n",
    "\t\tincome=income_data[l]\n",
    "\t\ttmp=variable_data[l,:]\n",
    "\t\tcluster=int(cluster_id[l])\n",
    "\t\ttmp_attribute=income*slope[:,cluster]\n",
    "\t\tloss_sum+=np.sum(np.power(tmp.transpose()-tmp_attribute,2))\n",
    "\treturn loss_sum"
   ]
  },
  {
   "cell_type": "markdown",
   "metadata": {},
   "source": [
    "# clustering"
   ]
  },
  {
   "cell_type": "code",
   "execution_count": 100,
   "metadata": {
    "collapsed": false,
    "scrolled": false
   },
   "outputs": [],
   "source": [
    "Epoch=50\n",
    "loss=np.zeros([Epoch])\n",
    "\n",
    "for epoch in range(Epoch):\n",
    "\t[slope]=update(slope)\n",
    "\tcluster_id=allocation(cluster_id,slope,K)\n",
    "\ttmp_loss=total_loss(cluster_id,income_data,variable_data)\n",
    "\tloss[epoch]=tmp_loss\n",
    "\n",
    "\n"
   ]
  },
  {
   "cell_type": "markdown",
   "metadata": {},
   "source": [
    "# Train error varying the number of epoch"
   ]
  },
  {
   "cell_type": "code",
   "execution_count": 101,
   "metadata": {
    "collapsed": false
   },
   "outputs": [
    {
     "data": {
      "text/plain": [
       "<matplotlib.text.Text at 0x110f0b9d0>"
      ]
     },
     "execution_count": 101,
     "metadata": {},
     "output_type": "execute_result"
    },
    {
     "data": {
      "image/png": "[encoded data removed]",
      "text/plain": [
       "<matplotlib.figure.Figure at 0x110eda890>"
      ]
     },
     "metadata": {},
     "output_type": "display_data"
    }
   ],
   "source": [
    "plt.plot(loss)\n",
    "plt.xlabel(\"Epoch\")\n",
    "plt.ylabel(\"Train error\")\n"
   ]
  },
  {
   "cell_type": "code",
   "execution_count": 102,
   "metadata": {
    "collapsed": false
   },
   "outputs": [],
   "source": [
    "clustering_summary=np.zeros([K,5])\n",
    "for i in range(num):\n",
    "    clustering_summary[int(cluster_id[i]),int(income_data[i]-1)]+=1\n",
    "clustering_summary=pd.DataFrame(clustering_summary,columns=list('12345'))"
   ]
  },
  {
   "cell_type": "markdown",
   "metadata": {},
   "source": [
    "# row: clustering ID column: income level"
   ]
  },
  {
   "cell_type": "code",
   "execution_count": 103,
   "metadata": {
    "collapsed": false
   },
   "outputs": [
    {
     "data": {
      "text/html": [
       "<div style=\"max-height:1000px;max-width:1500px;overflow:auto;\">\n",
       "<table border=\"1\" class=\"dataframe\">\n",
       "  <thead>\n",
       "    <tr style=\"text-align: right;\">\n",
       "      <th></th>\n",
       "      <th>1</th>\n",
       "      <th>2</th>\n",
       "      <th>3</th>\n",
       "      <th>4</th>\n",
       "      <th>5</th>\n",
       "    </tr>\n",
       "  </thead>\n",
       "  <tbody>\n",
       "    <tr>\n",
       "      <th>0</th>\n",
       "      <td>   96</td>\n",
       "      <td>   2</td>\n",
       "      <td>   7</td>\n",
       "      <td>  2</td>\n",
       "      <td>    0</td>\n",
       "    </tr>\n",
       "    <tr>\n",
       "      <th>1</th>\n",
       "      <td>  649</td>\n",
       "      <td> 193</td>\n",
       "      <td> 307</td>\n",
       "      <td> 10</td>\n",
       "      <td>  705</td>\n",
       "    </tr>\n",
       "    <tr>\n",
       "      <th>2</th>\n",
       "      <td>  292</td>\n",
       "      <td>   0</td>\n",
       "      <td>   0</td>\n",
       "      <td>  0</td>\n",
       "      <td>    0</td>\n",
       "    </tr>\n",
       "    <tr>\n",
       "      <th>3</th>\n",
       "      <td> 1926</td>\n",
       "      <td>   9</td>\n",
       "      <td>   0</td>\n",
       "      <td>  0</td>\n",
       "      <td>    0</td>\n",
       "    </tr>\n",
       "    <tr>\n",
       "      <th>4</th>\n",
       "      <td> 1946</td>\n",
       "      <td>  53</td>\n",
       "      <td>   3</td>\n",
       "      <td>  0</td>\n",
       "      <td>    0</td>\n",
       "    </tr>\n",
       "    <tr>\n",
       "      <th>5</th>\n",
       "      <td> 1155</td>\n",
       "      <td>  43</td>\n",
       "      <td>   0</td>\n",
       "      <td>  0</td>\n",
       "      <td>    0</td>\n",
       "    </tr>\n",
       "    <tr>\n",
       "      <th>6</th>\n",
       "      <td>  926</td>\n",
       "      <td> 233</td>\n",
       "      <td> 659</td>\n",
       "      <td> 24</td>\n",
       "      <td> 1692</td>\n",
       "    </tr>\n",
       "  </tbody>\n",
       "</table>\n",
       "</div>"
      ],
      "text/plain": [
       "      1    2    3   4     5\n",
       "0    96    2    7   2     0\n",
       "1   649  193  307  10   705\n",
       "2   292    0    0   0     0\n",
       "3  1926    9    0   0     0\n",
       "4  1946   53    3   0     0\n",
       "5  1155   43    0   0     0\n",
       "6   926  233  659  24  1692"
      ]
     },
     "execution_count": 103,
     "metadata": {},
     "output_type": "execute_result"
    }
   ],
   "source": [
    "clustering_summary"
   ]
  },
  {
   "cell_type": "markdown",
   "metadata": {},
   "source": [
    "# visualization"
   ]
  },
  {
   "cell_type": "code",
   "execution_count": 104,
   "metadata": {
    "collapsed": false
   },
   "outputs": [
    {
     "data": {
      "text/plain": [
       "<matplotlib.axes._subplots.AxesSubplot at 0x110f0bc90>"
      ]
     },
     "execution_count": 104,
     "metadata": {},
     "output_type": "execute_result"
    },
    {
     "data": {
      "image/png": "[encoded data removed]",
      "text/plain": [
       "<matplotlib.figure.Figure at 0x110c88ad0>"
      ]
     },
     "metadata": {},
     "output_type": "display_data"
    }
   ],
   "source": [
    "i=0\n",
    "tmp=slope#.reshape(val)\n",
    "tmp_slope_df=pd.DataFrame(tmp,index=tmp_df.columns)#,\n",
    "tmp_slope_df.plot(kind='bar',figsize=(20, 6))"
   ]
  },
  {
   "cell_type": "code",
   "execution_count": 105,
   "metadata": {
    "collapsed": false
   },
   "outputs": [
    {
     "data": {
      "text/plain": [
       "Index([u'tulineno', u'erbmi', u'erhhch', u'erspemch', u'ertpreat', u'ertseat', u'ethgt', u'etwgt', u'eudietsoda', u'eudrink', u'eueat', u'euexercise', u'euexfreq', u'eufastfd', u'eufastfdfrq', u'euffyday', u'eufdsit', u'eufinlwgt', u'eusnap', u'eugenhth', u'eugroshp', u'euhgt', u'euinclvl', u'eumeat', u'eumilk', u'euprpmel', u'eusoda', u'eustores', u'eustreason', u'eutherm', u'euwgt', u'euwic'], dtype='object')"
      ]
     },
     "execution_count": 105,
     "metadata": {},
     "output_type": "execute_result"
    }
   ],
   "source": [
    "tmp_df.columns"
   ]
  },
  {
   "cell_type": "code",
   "execution_count": 106,
   "metadata": {
    "collapsed": false,
    "scrolled": true
   },
   "outputs": [
    {
     "data": {
      "text/plain": [
       "<matplotlib.axes._subplots.AxesSubplot at 0x110f6ca90>"
      ]
     },
     "execution_count": 106,
     "metadata": {},
     "output_type": "execute_result"
    },
    {
     "data": {
      "image/png": "[encoded data removed]",
      "text/plain": [
       "<matplotlib.figure.Figure at 0x1104d9b10>"
      ]
     },
     "metadata": {},
     "output_type": "display_data"
    }
   ],
   "source": [
    "limited_tmp=tmp_slope_df\n",
    "limited_tmp=limited_tmp.drop(\"tulineno\",axis=0)\n",
    "limited_tmp=limited_tmp.drop(\"erspemch\",axis=0)\n",
    "limited_tmp=limited_tmp.drop(\"eugenhth\",axis=0)\n",
    "limited_tmp=limited_tmp.drop(\"eusnap\",axis=0)\n",
    "limited_tmp=limited_tmp.drop(\"eufinlwgt\",axis=0)\n",
    "#limited_tmp=limited_tmp.drop(\"\",axis=0)\n",
    "limited_tmp=limited_tmp.drop(\"erhhch\",axis=0)\n",
    "limited_tmp=limited_tmp.drop(\"ertpreat\",axis=0)\n",
    "limited_tmp=limited_tmp.drop(\"euexfreq\",axis=0)\n",
    "limited_tmp=limited_tmp.drop(\"euinclvl\",axis=0)\n",
    "limited_tmp=limited_tmp.drop(\"euwic\",axis=0)\n",
    "limited_tmp.plot(kind='bar',figsize=(20, 6))"
   ]
  },
  {
   "cell_type": "code",
   "execution_count": 107,
   "metadata": {
    "collapsed": false
   },
   "outputs": [
    {
     "data": {
      "text/html": [
       "<div style=\"max-height:1000px;max-width:1500px;overflow:auto;\">\n",
       "<table border=\"1\" class=\"dataframe\">\n",
       "  <thead>\n",
       "    <tr style=\"text-align: right;\">\n",
       "      <th></th>\n",
       "      <th>0</th>\n",
       "      <th>1</th>\n",
       "      <th>2</th>\n",
       "      <th>3</th>\n",
       "      <th>4</th>\n",
       "      <th>5</th>\n",
       "      <th>6</th>\n",
       "    </tr>\n",
       "  </thead>\n",
       "  <tbody>\n",
       "    <tr>\n",
       "      <th>erbmi</th>\n",
       "      <td> 0.067960</td>\n",
       "      <td> 0.040123</td>\n",
       "      <td>-3.211381</td>\n",
       "      <td> 0.099155</td>\n",
       "      <td> 0.150369</td>\n",
       "      <td> 0.093887</td>\n",
       "      <td> 0.007401</td>\n",
       "    </tr>\n",
       "    <tr>\n",
       "      <th>ertseat</th>\n",
       "      <td> 5.932530</td>\n",
       "      <td>-0.017028</td>\n",
       "      <td>-0.067643</td>\n",
       "      <td>-0.088076</td>\n",
       "      <td>-0.040609</td>\n",
       "      <td>-0.122594</td>\n",
       "      <td>-0.020502</td>\n",
       "    </tr>\n",
       "    <tr>\n",
       "      <th>ethgt</th>\n",
       "      <td> 0.041877</td>\n",
       "      <td> 0.001898</td>\n",
       "      <td>-0.877601</td>\n",
       "      <td> 0.038069</td>\n",
       "      <td> 0.004834</td>\n",
       "      <td> 0.047820</td>\n",
       "      <td> 0.008140</td>\n",
       "    </tr>\n",
       "    <tr>\n",
       "      <th>etwgt</th>\n",
       "      <td> 0.026366</td>\n",
       "      <td> 0.032657</td>\n",
       "      <td>-3.796045</td>\n",
       "      <td> 0.146757</td>\n",
       "      <td> 0.149797</td>\n",
       "      <td> 0.152910</td>\n",
       "      <td> 0.011820</td>\n",
       "    </tr>\n",
       "    <tr>\n",
       "      <th>eudietsoda</th>\n",
       "      <td> 0.306459</td>\n",
       "      <td> 0.011759</td>\n",
       "      <td> 0.086807</td>\n",
       "      <td> 0.022422</td>\n",
       "      <td> 0.237180</td>\n",
       "      <td>-0.572341</td>\n",
       "      <td> 0.004030</td>\n",
       "    </tr>\n",
       "    <tr>\n",
       "      <th>eudrink</th>\n",
       "      <td>-0.124646</td>\n",
       "      <td> 0.021497</td>\n",
       "      <td> 0.023025</td>\n",
       "      <td> 0.021400</td>\n",
       "      <td>-0.660069</td>\n",
       "      <td> 1.356847</td>\n",
       "      <td>-0.039780</td>\n",
       "    </tr>\n",
       "    <tr>\n",
       "      <th>eueat</th>\n",
       "      <td>-0.638745</td>\n",
       "      <td> 0.027125</td>\n",
       "      <td>-0.076920</td>\n",
       "      <td>-0.017428</td>\n",
       "      <td>-0.193561</td>\n",
       "      <td> 0.061981</td>\n",
       "      <td> 0.026079</td>\n",
       "    </tr>\n",
       "    <tr>\n",
       "      <th>euexercise</th>\n",
       "      <td> 0.064703</td>\n",
       "      <td> 0.040215</td>\n",
       "      <td>-0.515937</td>\n",
       "      <td>-0.097746</td>\n",
       "      <td>-0.107288</td>\n",
       "      <td>-0.129560</td>\n",
       "      <td> 0.041275</td>\n",
       "    </tr>\n",
       "    <tr>\n",
       "      <th>eufastfd</th>\n",
       "      <td>-0.079564</td>\n",
       "      <td> 0.033613</td>\n",
       "      <td>-0.126473</td>\n",
       "      <td>-0.161072</td>\n",
       "      <td>-0.764377</td>\n",
       "      <td> 0.001504</td>\n",
       "      <td> 0.146604</td>\n",
       "    </tr>\n",
       "    <tr>\n",
       "      <th>eufastfdfrq</th>\n",
       "      <td> 0.159244</td>\n",
       "      <td>-0.032144</td>\n",
       "      <td>-0.049374</td>\n",
       "      <td> 0.194872</td>\n",
       "      <td> 0.691856</td>\n",
       "      <td>-0.028911</td>\n",
       "      <td>-0.133964</td>\n",
       "    </tr>\n",
       "    <tr>\n",
       "      <th>euffyday</th>\n",
       "      <td> 0.074113</td>\n",
       "      <td>-0.033885</td>\n",
       "      <td>-0.062914</td>\n",
       "      <td> 0.161753</td>\n",
       "      <td> 0.786962</td>\n",
       "      <td>-0.000130</td>\n",
       "      <td>-0.145939</td>\n",
       "    </tr>\n",
       "    <tr>\n",
       "      <th>eufdsit</th>\n",
       "      <td> 0.000039</td>\n",
       "      <td> 0.022456</td>\n",
       "      <td>-0.582374</td>\n",
       "      <td>-0.139962</td>\n",
       "      <td>-0.096250</td>\n",
       "      <td>-0.093569</td>\n",
       "      <td> 0.053052</td>\n",
       "    </tr>\n",
       "    <tr>\n",
       "      <th>eugroshp</th>\n",
       "      <td>-0.053563</td>\n",
       "      <td> 0.344097</td>\n",
       "      <td>-0.140925</td>\n",
       "      <td> 0.771695</td>\n",
       "      <td>-0.457579</td>\n",
       "      <td>-0.451601</td>\n",
       "      <td>-0.154999</td>\n",
       "    </tr>\n",
       "    <tr>\n",
       "      <th>euhgt</th>\n",
       "      <td> 0.128097</td>\n",
       "      <td> 0.036335</td>\n",
       "      <td>-1.418789</td>\n",
       "      <td> 0.334990</td>\n",
       "      <td> 0.062045</td>\n",
       "      <td> 0.054668</td>\n",
       "      <td>-0.054489</td>\n",
       "    </tr>\n",
       "    <tr>\n",
       "      <th>eumeat</th>\n",
       "      <td> 0.174879</td>\n",
       "      <td>-0.174258</td>\n",
       "      <td> 0.166951</td>\n",
       "      <td>-1.551933</td>\n",
       "      <td> 0.550964</td>\n",
       "      <td> 0.560740</td>\n",
       "      <td> 0.174114</td>\n",
       "    </tr>\n",
       "    <tr>\n",
       "      <th>eumilk</th>\n",
       "      <td> 0.165477</td>\n",
       "      <td>-0.184217</td>\n",
       "      <td> 0.190438</td>\n",
       "      <td>-1.611876</td>\n",
       "      <td> 0.592946</td>\n",
       "      <td> 0.583675</td>\n",
       "      <td> 0.178381</td>\n",
       "    </tr>\n",
       "    <tr>\n",
       "      <th>euprpmel</th>\n",
       "      <td>-0.026184</td>\n",
       "      <td> 0.456380</td>\n",
       "      <td>-0.297016</td>\n",
       "      <td> 0.770643</td>\n",
       "      <td>-0.518306</td>\n",
       "      <td>-0.522474</td>\n",
       "      <td>-0.185416</td>\n",
       "    </tr>\n",
       "    <tr>\n",
       "      <th>eusoda</th>\n",
       "      <td> 0.052097</td>\n",
       "      <td>-0.030133</td>\n",
       "      <td>-0.060256</td>\n",
       "      <td>-0.030169</td>\n",
       "      <td> 0.644533</td>\n",
       "      <td>-1.309253</td>\n",
       "      <td> 0.044636</td>\n",
       "    </tr>\n",
       "    <tr>\n",
       "      <th>eustores</th>\n",
       "      <td> 0.120330</td>\n",
       "      <td>-0.175413</td>\n",
       "      <td> 0.119897</td>\n",
       "      <td>-0.974620</td>\n",
       "      <td> 0.399732</td>\n",
       "      <td> 0.418388</td>\n",
       "      <td> 0.123230</td>\n",
       "    </tr>\n",
       "    <tr>\n",
       "      <th>eustreason</th>\n",
       "      <td> 0.163566</td>\n",
       "      <td>-0.164792</td>\n",
       "      <td> 0.082261</td>\n",
       "      <td>-0.906122</td>\n",
       "      <td> 0.446493</td>\n",
       "      <td> 0.416127</td>\n",
       "      <td> 0.099754</td>\n",
       "    </tr>\n",
       "    <tr>\n",
       "      <th>eutherm</th>\n",
       "      <td> 0.124593</td>\n",
       "      <td>-0.165890</td>\n",
       "      <td> 0.159706</td>\n",
       "      <td>-1.313081</td>\n",
       "      <td> 0.520792</td>\n",
       "      <td> 0.472702</td>\n",
       "      <td> 0.146400</td>\n",
       "    </tr>\n",
       "    <tr>\n",
       "      <th>euwgt</th>\n",
       "      <td> 0.091813</td>\n",
       "      <td> 0.065813</td>\n",
       "      <td>-2.981933</td>\n",
       "      <td> 0.263822</td>\n",
       "      <td> 0.100236</td>\n",
       "      <td> 0.041060</td>\n",
       "      <td>-0.023051</td>\n",
       "    </tr>\n",
       "  </tbody>\n",
       "</table>\n",
       "</div>"
      ],
      "text/plain": [
       "                    0         1         2         3         4         5  \\\n",
       "erbmi        0.067960  0.040123 -3.211381  0.099155  0.150369  0.093887   \n",
       "ertseat      5.932530 -0.017028 -0.067643 -0.088076 -0.040609 -0.122594   \n",
       "ethgt        0.041877  0.001898 -0.877601  0.038069  0.004834  0.047820   \n",
       "etwgt        0.026366  0.032657 -3.796045  0.146757  0.149797  0.152910   \n",
       "eudietsoda   0.306459  0.011759  0.086807  0.022422  0.237180 -0.572341   \n",
       "eudrink     -0.124646  0.021497  0.023025  0.021400 -0.660069  1.356847   \n",
       "eueat       -0.638745  0.027125 -0.076920 -0.017428 -0.193561  0.061981   \n",
       "euexercise   0.064703  0.040215 -0.515937 -0.097746 -0.107288 -0.129560   \n",
       "eufastfd    -0.079564  0.033613 -0.126473 -0.161072 -0.764377  0.001504   \n",
       "eufastfdfrq  0.159244 -0.032144 -0.049374  0.194872  0.691856 -0.028911   \n",
       "euffyday     0.074113 -0.033885 -0.062914  0.161753  0.786962 -0.000130   \n",
       "eufdsit      0.000039  0.022456 -0.582374 -0.139962 -0.096250 -0.093569   \n",
       "eugroshp    -0.053563  0.344097 -0.140925  0.771695 -0.457579 -0.451601   \n",
       "euhgt        0.128097  0.036335 -1.418789  0.334990  0.062045  0.054668   \n",
       "eumeat       0.174879 -0.174258  0.166951 -1.551933  0.550964  0.560740   \n",
       "eumilk       0.165477 -0.184217  0.190438 -1.611876  0.592946  0.583675   \n",
       "euprpmel    -0.026184  0.456380 -0.297016  0.770643 -0.518306 -0.522474   \n",
       "eusoda       0.052097 -0.030133 -0.060256 -0.030169  0.644533 -1.309253   \n",
       "eustores     0.120330 -0.175413  0.119897 -0.974620  0.399732  0.418388   \n",
       "eustreason   0.163566 -0.164792  0.082261 -0.906122  0.446493  0.416127   \n",
       "eutherm      0.124593 -0.165890  0.159706 -1.313081  0.520792  0.472702   \n",
       "euwgt        0.091813  0.065813 -2.981933  0.263822  0.100236  0.041060   \n",
       "\n",
       "                    6  \n",
       "erbmi        0.007401  \n",
       "ertseat     -0.020502  \n",
       "ethgt        0.008140  \n",
       "etwgt        0.011820  \n",
       "eudietsoda   0.004030  \n",
       "eudrink     -0.039780  \n",
       "eueat        0.026079  \n",
       "euexercise   0.041275  \n",
       "eufastfd     0.146604  \n",
       "eufastfdfrq -0.133964  \n",
       "euffyday    -0.145939  \n",
       "eufdsit      0.053052  \n",
       "eugroshp    -0.154999  \n",
       "euhgt       -0.054489  \n",
       "eumeat       0.174114  \n",
       "eumilk       0.178381  \n",
       "euprpmel    -0.185416  \n",
       "eusoda       0.044636  \n",
       "eustores     0.123230  \n",
       "eustreason   0.099754  \n",
       "eutherm      0.146400  \n",
       "euwgt       -0.023051  "
      ]
     },
     "execution_count": 107,
     "metadata": {},
     "output_type": "execute_result"
    }
   ],
   "source": [
    "limited_tmp"
   ]
  },
  {
   "cell_type": "code",
   "execution_count": null,
   "metadata": {
    "collapsed": true
   },
   "outputs": [],
   "source": []
  }
 ],
 "metadata": {
  "kernelspec": {
   "display_name": "Python 2",
   "language": "python",
   "name": "python2"
  },
  "language_info": {
   "codemirror_mode": {
    "name": "ipython",
    "version": 2
   },
   "file_extension": ".py",
   "mimetype": "text/x-python",
   "name": "python",
   "nbconvert_exporter": "python",
   "pygments_lexer": "ipython2",
   "version": "2.7.9"
  }
 },
 "nbformat": 4,
 "nbformat_minor": 0
}
